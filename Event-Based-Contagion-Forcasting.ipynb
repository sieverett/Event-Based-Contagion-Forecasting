{
 "cells": [
  {
   "cell_type": "code",
   "execution_count": null,
   "metadata": {},
   "outputs": [],
   "source": [
    "%matplotlib inline\n",
    "import os\n",
    "import json\n",
    "import time\n",
    "import requests\n",
    "import datetime\n",
    "import dateutil\n",
    "import pandas as pd\n",
    "from dateutil.relativedelta import relativedelta\n",
    "import matplotlib.pyplot as plt\n",
    "import seaborn as sns\n",
    "import numpy as np\n",
    "from urllib.request import urlopen\n",
    "import json\n",
    "import plotly.express as px\n",
    "sns.set()"
   ]
  },
  {
   "cell_type": "markdown",
   "metadata": {},
   "source": [
    "#### Event-based Contagion Forecasting\n",
    "The following analysis seeks to determine if there is a correlation between the information on Covid-19, number of Covid-19 cases and the number of attributed deaths in relation to the timing and location of Trump's 2020 campaign rallies for U.S. President.  The analysis assumes that the covid statistics will be captured for each city in which a rally occured. The rally schedule ('https://ballotpedia.org/Donald_Trump_presidential_campaign,_2020#Campaign_rallies') is listed by city and New York Times Covid-19 data ('https://raw.githubusercontent.com/nytimes/covid-19-data/master/us-counties.csv') is by county, therefore the table is joined first by looking up the county for each city, and getting the fips coded geographic boundaries:"
   ]
  },
  {
   "cell_type": "code",
   "execution_count": null,
   "metadata": {},
   "outputs": [],
   "source": [
    "cities=pd.read_csv('https://raw.githubusercontent.com/kelvins/US-Cities-Database/main/csv/us_cities.csv'\n",
    "                  ).drop('STATE_CODE',axis=1)\n",
    "cities.columns=[i.lower().split('_')[0] for i in cities.columns]"
   ]
  },
  {
   "cell_type": "code",
   "execution_count": null,
   "metadata": {},
   "outputs": [],
   "source": [
    "with urlopen('https://raw.githubusercontent.com/plotly/datasets/master/geojson-counties-fips.json') as response:\n",
    "    counties = json.load(response)\n",
    "    \n",
    "county_coordinates=pd.DataFrame([(item['id'],item['geometry']['coordinates'][0][0]) \n",
    "                          for item in counties['features']],columns=['fips','coord'])"
   ]
  },
  {
   "cell_type": "markdown",
   "metadata": {},
   "source": [
    "Covid-19 dataset is downloaded to a dataframe:"
   ]
  },
  {
   "cell_type": "code",
   "execution_count": null,
   "metadata": {},
   "outputs": [],
   "source": [
    "covid=pd.read_csv('https://raw.githubusercontent.com/nytimes/covid-19-data/master/us-counties.csv',\n",
    "                  parse_dates=['date'],dtype={\"fips\": str}).set_index(\"date\")\n",
    "covid['county_state']=covid.county+'_'+covid.state\n",
    "print(\"The complete Covid-19 dataset has {} records\".format(covid.shape[0]))\n",
    "covid.tail()"
   ]
  },
  {
   "cell_type": "code",
   "execution_count": null,
   "metadata": {},
   "outputs": [],
   "source": [
    "rallies=pd.read_excel('../../../Desktop/trump_rally_spread/'+'trump_rallies.xlsx')\n",
    "rallies.columns=['date','city','state']\n",
    "covid_era=[1 for i in range(rallies[rallies.date > pd.Timestamp('2020-03-13')].shape[0])]+[0 for i in range(rallies[rallies.date < pd.Timestamp('2020-03-13')].shape[0])]\n",
    "rallies['covid_era']=covid_era\n",
    "print('Trump campaign has conducted {} campaign rallies since March 13, 2020'.format(rallies[rallies.date > pd.Timestamp('2020-03-13')].shape[0]))\n",
    "print(\"{} percent of Trump's rallies have taken place during the pandemic.\".format(rallies['covid_era'].sum() / rallies['covid_era'].count()*100))"
   ]
  },
  {
   "cell_type": "markdown",
   "metadata": {},
   "source": [
    "For every rally city find the county the city is in."
   ]
  },
  {
   "cell_type": "code",
   "execution_count": null,
   "metadata": {},
   "outputs": [],
   "source": [
    "lst=[]\n",
    "for d,rc,rs in zip(rallies.date,rallies.city,rallies.state):\n",
    "    try:\n",
    "        lst.append((d,rc,cities[(cities.city==rc)& (cities.state==rs)]['county'].values[0],rs))\n",
    "    except:\n",
    "        lst.append((d,rc,'Check',rs))"
   ]
  },
  {
   "cell_type": "code",
   "execution_count": null,
   "metadata": {},
   "outputs": [],
   "source": [
    "rallies_w_county=pd.DataFrame(lst,columns=['date','city','county','state'])\n",
    "rallies_w_county.at[27,'county']='Polk'\n",
    "rallies_w_county['county_state']=rallies_w_county.county+'_'+rallies_w_county.state\n",
    "rallies_w_county.county_state=rallies_w_county.county_state.replace('Saint Louis_Minnesota', 'St. Louis_Minnesota')\n",
    "rallies_w_county.county_state=rallies_w_county.county_state.replace('Check_Florida', 'Broward_Florida')\n",
    "rallies_w_county.county_state=rallies_w_county.county_state.replace('Check_North Carolina', 'Forsyth_North Carolina')\n",
    "rallies_w_county.county_state=rallies_w_county.county_state.replace('Miami-dade_Florida', 'Miami-Dade_Flordia')\n",
    "rallies_w_county.head()"
   ]
  },
  {
   "cell_type": "markdown",
   "metadata": {},
   "source": [
    " Merge with trump rallies dataset and then **save** it."
   ]
  },
  {
   "cell_type": "markdown",
   "metadata": {},
   "source": [
    "We'll calculate basic statistics for the entire covid dataset..."
   ]
  },
  {
   "cell_type": "code",
   "execution_count": null,
   "metadata": {},
   "outputs": [],
   "source": [
    "ROLLING_MEAN_WINDOW=5\n",
    "df=pd.DataFrame()\n",
    "start_date='2020-02-01'\n",
    "dict_={'y':1 , 'n': 0}\n",
    "lsty=[]\n",
    "for county_state in list(set(covid.county_state)):\n",
    "    tmp=covid[(covid.county_state==county_state) & (covid.index > start_date)]\n",
    "    tmp.loc[:,\"new_cases\"]=tmp.cases.diff()\n",
    "    tmp.loc[:,\"new_deaths\"]=tmp.deaths.diff()\n",
    "    tmp.loc[:,'cases_pct_change']=tmp.cases.pct_change(periods=ROLLING_MEAN_WINDOW)\n",
    "    tmp.loc[:,'deaths_pct_change']=tmp.deaths.pct_change(periods=ROLLING_MEAN_WINDOW)\n",
    "    #print(tmp.shape[0])\n",
    "    if county_state in list(rallies_w_county.county_state):\n",
    "        lsty.append([\"y\"]*(tmp.shape[0]))\n",
    "    else:\n",
    "        lsty.append([\"n\"]*(tmp.shape[0]))\n",
    "    tmp['y_county']=lsty[0]\n",
    "    lsty=[]\n",
    "\n",
    "    df=pd.concat([df,tmp])\n",
    "\n",
    "\n",
    "df['y_count']=[dict_[i] for i in df['y_county']]\n",
    "df.merge(county_coordinates, on='fips')\n",
    "df.to_pickle('trump.pkl')"
   ]
  },
  {
   "cell_type": "markdown",
   "metadata": {},
   "source": [
    "**load data** from saved copy we don't have to rerun processing"
   ]
  },
  {
   "cell_type": "code",
   "execution_count": null,
   "metadata": {},
   "outputs": [],
   "source": [
    "df=pd.read_pickle('trump.pkl')\n",
    "df.sample(5)"
   ]
  },
  {
   "cell_type": "markdown",
   "metadata": {},
   "source": [
    "#### Inspecting the data"
   ]
  },
  {
   "cell_type": "code",
   "execution_count": null,
   "metadata": {},
   "outputs": [],
   "source": [
    "#all_states_only=df.replace([np.inf, -np.inf], np.nan).groupby(['state_x','fips'])[['cases_pct_change']].mean().reset_index()\n",
    "df=df.replace([np.inf, -np.inf], np.nan)\n",
    "df.describe()"
   ]
  },
  {
   "cell_type": "code",
   "execution_count": null,
   "metadata": {},
   "outputs": [],
   "source": [
    "#df.groupby(['state_x','date'])[['cases_pct_change']].mean().reset_index().plot()\n",
    "states=df.groupby('state')[['new_cases','cases_pct_change']].agg({'cases_pct_change': ['min', 'max', 'mean'], 'new_cases': ['sum']})\n",
    "states.sort_values(('cases_pct_change','max'),ascending=False)"
   ]
  },
  {
   "cell_type": "markdown",
   "metadata": {},
   "source": [
    "#### Distribution of All States. The mean pct change for all states during the period."
   ]
  },
  {
   "cell_type": "code",
   "execution_count": null,
   "metadata": {},
   "outputs": [],
   "source": [
    "stat=states['cases_pct_change']\n",
    "sns.distplot(stat['mean'])\n",
    "print('{:.02f} percent'.format(stat['mean'].mean()*100))"
   ]
  },
  {
   "cell_type": "markdown",
   "metadata": {},
   "source": [
    "#### States experiencing the biggest average increase in cases since March 13, 2020"
   ]
  },
  {
   "cell_type": "code",
   "execution_count": null,
   "metadata": {},
   "outputs": [],
   "source": [
    "stat.sort_values('mean', ascending=False).head(10)"
   ]
  },
  {
   "cell_type": "markdown",
   "metadata": {},
   "source": [
    "#### States experiencing lowest average increase since March 13, 2020."
   ]
  },
  {
   "cell_type": "code",
   "execution_count": null,
   "metadata": {},
   "outputs": [],
   "source": [
    "stat.sort_values('mean', ascending=False).tail(10)"
   ]
  },
  {
   "cell_type": "markdown",
   "metadata": {},
   "source": [
    "#### Trump Rallies Since March 13, 2020"
   ]
  },
  {
   "cell_type": "code",
   "execution_count": null,
   "metadata": {},
   "outputs": [],
   "source": [
    "sns.set()\n",
    "def filter_features(df,source_column,target_item_list):\n",
    "    return df[df[source_column].isin(target_item_list)]\n",
    "\n",
    "def filter_time(df,target_date,time_window,look_forward):\n",
    "    if look_forward:\n",
    "        delta= target_date+pd.Timedelta(days=time_window)\n",
    "        tmp=df[(df.index > target_date) & (df.index < delta)]\n",
    "    else:\n",
    "        delta= target_date-pd.Timedelta(days=time_window)\n",
    "        tmp=df[(df.index > delta) & (df.index < target_date)]\n",
    "    return tmp\n",
    "\n",
    "def plot_effect(rally,rally_date,show_off,stat):\n",
    "    \"\"\"rallies_w_county.county[0]\"\"\"\n",
    "    plt.figure(figsize=(15,4))\n",
    "\n",
    "    ax=sns.lineplot(data=rally.new_cases, color=\"y\",linewidth = 3);\n",
    "    ax2 = ax.twinx()\n",
    "    ax2.bar(rally.index,rally.new_deaths,color='red',alpha=.2)\n",
    "\n",
    "    ax.set_ylabel('cases',color=\"y\",fontsize=16)\n",
    "    ax2.set_ylabel('deaths',color=\"red\",fontsize=14)\n",
    "    \n",
    "    offset = pd.Timedelta(show_off, 'D')\n",
    "    \n",
    "    plt.title('Trump Effect in {} | daily avg. incr. in cases: {:.02f} percent'.format(rally.county_state[0], stat*100))\n",
    "    #ax.legend(['input'], loc=2)\n",
    "\n",
    "    ax.axvline(rally_date + offset, alpha=0.3, color='black')\n",
    "    ax.axvline(rally_date, alpha=0.9, color='red', linewidth=2.5)\n",
    "    ax.axvline(rally_date - offset, alpha=0.3, color='black')\n",
    "    ymark=rally.new_cases.max()\n",
    "    ax.text(x=rally_date, y=int(ymark*.6), s='Trump Rally \\n{:%Y-%m-%d}'.format(rally_date), color='r',fontsize=15)\n",
    "    ax.text(x=rally_date+offset, y=int(ymark*.4), s='{} Days After'.format(show_off), alpha=.5, color='b')\n",
    "    ax.text(x=rally_date-offset, y=int(ymark*.4), s='{} Days Before'.format(show_off), alpha=.5, color='b')\n",
    "    \n",
    "    return plt"
   ]
  },
  {
   "cell_type": "code",
   "execution_count": null,
   "metadata": {},
   "outputs": [],
   "source": [
    "TIME_WINDOW=20\n",
    "\n",
    "def trump_rally_effect(select,stat=False,plot=False,verbose=False):    \n",
    "    selection=list(rallies_w_county[['date','county_state']].iloc[select])\n",
    "    selected_county_state=filter_features(df,'county_state',[selection[1]])\n",
    "    look_forward=filter_time(selected_county_state,selection[0],TIME_WINDOW,True)\n",
    "    look_backward=filter_time(selected_county_state,selection[0],TIME_WINDOW,False)\n",
    "    look_span=pd.concat([look_backward, look_forward])\n",
    "    backward_span=filter_time(selected_county_state,selection[0],20,False)\n",
    "    view_span=pd.concat([backward_span, look_forward])\n",
    "    stat=(look_forward.new_cases.mean()-look_backward.new_cases.mean())/look_backward.new_cases.mean()\n",
    "    if plot:\n",
    "        plot_effect(rally=view_span,rally_date=selection[0],show_off=20,stat=stat)\n",
    "    if verbose:\n",
    "        print('county_state of selected rally: {}'.format(selection[1]))\n",
    "        print('date of selected rally: {:%Y-%m-%d}'.format(selection[0]))\n",
    "        print('the average number of new cases per day increased by: {:.02f} percent'.format(stat*100))\n",
    "    if stat:\n",
    "        stat_=[stat, selection[0], selection[1]]\n",
    "    else:\n",
    "        stat_=None\n",
    "    return stat_"
   ]
  },
  {
   "cell_type": "markdown",
   "metadata": {},
   "source": [
    "#### Trump Rallies with by mean percentage daily increase"
   ]
  },
  {
   "cell_type": "code",
   "execution_count": null,
   "metadata": {},
   "outputs": [],
   "source": [
    "lst=[]\n",
    "for i in range(21):\n",
    "    lst.append([i]+trump_rally_effect(i,stat=True))\n",
    "tmp=pd.DataFrame(lst, columns=['idx','mean_pct_daily_increase','date','county_state']).set_index('idx')\n",
    "tmp['mean_pct_daily_increase']=np.round(tmp.mean_pct_daily_increase*100,2)\n",
    "tmp=tmp.sort_values(by='mean_pct_daily_increase',ascending=False)\n",
    "tmp"
   ]
  },
  {
   "cell_type": "markdown",
   "metadata": {},
   "source": [
    "#### Impact of Trump Rallies | per pct increase in daily avg of cases "
   ]
  },
  {
   "cell_type": "code",
   "execution_count": null,
   "metadata": {},
   "outputs": [],
   "source": [
    "trump_rally_effect(7,plot=True);\n",
    "trump_rally_effect(8,plot=True);\n",
    "trump_rally_effect(5,plot=True);\n",
    "trump_rally_effect(20,plot=True);\n",
    "trump_rally_effect(19,plot=True);\n",
    "trump_rally_effect(18,plot=True);\n",
    "trump_rally_effect(1,plot=True);\n",
    "trump_rally_effect(17,plot=True);\n",
    "trump_rally_effect(14,plot=True);\n",
    "trump_rally_effect(0,plot=True);"
   ]
  },
  {
   "cell_type": "markdown",
   "metadata": {},
   "source": [
    "#### US by County | % change in cases over period of rally"
   ]
  },
  {
   "cell_type": "code",
   "execution_count": null,
   "metadata": {},
   "outputs": [],
   "source": [
    "def plot_intra_state_distribution(df):\n",
    "    plt.figure(figsize=(15, 4))\n",
    "    plt.xticks(rotation=90)\n",
    "    plt.xlabel('daily pct increase in cases')\n",
    "    lb_lf=df.sort_values('stat')\n",
    "    barlist=plt.bar(lb_lf.county_state_x,lb_lf.stat.replace([np.inf, -np.inf], np.nan))\n",
    "    barlist[-8].set_color('r')"
   ]
  },
  {
   "cell_type": "code",
   "execution_count": null,
   "metadata": {},
   "outputs": [],
   "source": [
    "def show_map(df,stat,center,hov='county_state',loc=None):\n",
    "    \n",
    "    \"\"\"\n",
    "    stat: name of column with stat\n",
    "    center: list of lat lon of rally to center map on\n",
    "    hov: column name of msg to display in hover tooltip\n",
    "    loc: name of rally by county_state\n",
    "    \"\"\"\n",
    "    \n",
    "    fig = px.choropleth(df, geojson=counties, locations='fips', color=stat,\n",
    "                               color_continuous_scale=\"Blues\",\n",
    "                               range_color=(0, max(df[stat])),\n",
    "                               scope='usa',\n",
    "                               hover_name=hov,\n",
    "                               labels={stat:'mean change in new cases'},\n",
    "                               center={'lat': center[0] , 'lon': center[1]}\n",
    "                              )\n",
    "    fig.update_geos(fitbounds=\"locations\", visible=False)\n",
    "                        \n",
    "    fig.update_layout(margin={\"r\":0,\"t\":0,\"l\":0,\"b\":0})\n",
    "#    ax.annotate(‘Source: London Datastore, 2014’,xy=(0.1, .08),  \n",
    " #   xycoords='figure fraction', horizontalalignment='left', verticalalignment='top', fontsize=12, color='#555555')\n",
    "    fig.show()"
   ]
  },
  {
   "cell_type": "code",
   "execution_count": null,
   "metadata": {},
   "outputs": [],
   "source": [
    "def show_counties(df,idx):\n",
    "    state=tmp.county_state[idx].split('_')[1]\n",
    "    print(tmp.county_state[idx])\n",
    "    look_forward=filter_time(df,tmp.date[idx],20,True)\n",
    "    look_backward=filter_time(df,tmp.date[idx],20,False)\n",
    "    lf=look_forward.query('state == \"{}\"'.format(state)).groupby(['county_state','fips'])[['new_cases']].mean().reset_index()\n",
    "    lb=look_backward.query('state == \"{}\"'.format(state)).groupby(['county_state','fips'])[['new_cases']].mean().reset_index()\n",
    "    lb_lf=lb.merge(lf, on='fips').merge(county_codes, on='fips')\n",
    "    lb_lf['stat']=((lb_lf.new_cases_y-lb_lf.new_cases_x)/lb_lf.new_cases_x)*100\n",
    "    #center=lb_lf.query('county_state_x == \"{}\"'.format(tmp.loc[idx].county_state))['coord'].values[0]\n",
    "    show_map(lb_lf,center=center,stat='stat',hov='county_state_x')\n",
    "    plot_intra_state_distribution(lb_lf)"
   ]
  },
  {
   "cell_type": "markdown",
   "metadata": {},
   "source": [
    "#### Beltrami Minnesota"
   ]
  },
  {
   "cell_type": "code",
   "execution_count": null,
   "metadata": {},
   "outputs": [],
   "source": [
    "# compare after-before\n",
    "look_forward=filter_time(df,tmp.date[7],20,True)\n",
    "look_backward=filter_time(df,tmp.date[7],20,False)\n",
    "lf=look_forward.query('state == \"Minnesota\"').groupby(['county_state','fips'])[['new_cases']].mean().reset_index()\n",
    "lb=look_backward.query('state == \"Minnesota\"').groupby(['county_state','fips'])[['new_cases']].mean().reset_index()\n",
    "lb_lf=lb.merge(lf, on='fips')\n",
    "lb_lf['stat']=((lb_lf.new_cases_y-lb_lf.new_cases_x)/lb_lf.new_cases_x)*100\n",
    "#center=lb_lf.query('county_state_x == \"{}\"'.format(tmp.loc[8].county_state))['coord'].values[0]\n",
    "#center=['{:.02f}'.format(i) for i in center]\n",
    "show_map(lb_lf,center=center,stat='stat',hov='county_state_x',loc=tmp.county_state[7].split('_')[0])"
   ]
  },
  {
   "cell_type": "markdown",
   "metadata": {},
   "source": [
    "#### Marathon Wisconsin"
   ]
  },
  {
   "cell_type": "code",
   "execution_count": null,
   "metadata": {},
   "outputs": [],
   "source": [
    "show_counties(df,8)"
   ]
  },
  {
   "cell_type": "markdown",
   "metadata": {},
   "source": [
    "#### Fulton Ohio"
   ]
  },
  {
   "cell_type": "code",
   "execution_count": null,
   "metadata": {
    "scrolled": true
   },
   "outputs": [],
   "source": [
    "show_counties(df,5)"
   ]
  },
  {
   "cell_type": "markdown",
   "metadata": {},
   "source": [
    "#### Lackawanna Pennsylvania"
   ]
  },
  {
   "cell_type": "code",
   "execution_count": null,
   "metadata": {},
   "outputs": [],
   "source": [
    "show_counties(df,15)"
   ]
  },
  {
   "cell_type": "markdown",
   "metadata": {},
   "source": [
    "#### Creek Oklahoma"
   ]
  },
  {
   "cell_type": "code",
   "execution_count": null,
   "metadata": {},
   "outputs": [],
   "source": [
    "show_counties(df,20)"
   ]
  }
 ],
 "metadata": {
  "kernelspec": {
   "display_name": "Python 3",
   "language": "python",
   "name": "python3"
  },
  "language_info": {
   "codemirror_mode": {
    "name": "ipython",
    "version": 3
   },
   "file_extension": ".py",
   "mimetype": "text/x-python",
   "name": "python",
   "nbconvert_exporter": "python",
   "pygments_lexer": "ipython3",
   "version": "3.6.7"
  }
 },
 "nbformat": 4,
 "nbformat_minor": 2
}
